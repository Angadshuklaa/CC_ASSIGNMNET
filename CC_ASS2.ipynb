{
  "nbformat": 4,
  "nbformat_minor": 0,
  "metadata": {
    "colab": {
      "provenance": []
    },
    "kernelspec": {
      "name": "python3",
      "display_name": "Python 3"
    },
    "language_info": {
      "name": "python"
    }
  },
  "cells": [
    {
      "cell_type": "markdown",
      "source": [
        "Create a List L that is defined as= [10, 20, 30, 40, 50, 60, 70, 80]. i. WAP to add 200 and 300 to L. ii. WAP to remove 10 and 30 from L. iii. WAP to sort L in ascending order. iv. WAP to sort L in descending order"
      ],
      "metadata": {
        "id": "3MuR3Lvm9PuZ"
      }
    },
    {
      "cell_type": "code",
      "source": [
        "L = [10, 20, 30, 40, 50, 60, 70, 80]\n",
        "\n",
        "L.extend([200, 300])\n",
        "\n",
        "L.remove(10)\n",
        "L.remove(30)\n",
        "\n",
        "L.sort()\n",
        "\n",
        "L.sort(reverse=True)\n",
        "\n",
        "print(L)"
      ],
      "metadata": {
        "colab": {
          "base_uri": "https://localhost:8080/"
        },
        "id": "ARRFXKN39RRf",
        "outputId": "470e781a-8f64-414e-d70e-13258459459f"
      },
      "execution_count": 1,
      "outputs": [
        {
          "output_type": "stream",
          "name": "stdout",
          "text": [
            "[300, 200, 80, 70, 60, 50, 40, 20]\n"
          ]
        }
      ]
    },
    {
      "cell_type": "markdown",
      "source": [
        "Create a tuple of marks scored as scores = (45, 89.5, 76, 45.4, 89, 92, 58, 45) and perform the following operations using tuple functions: i. Identify the highest score and its index in the tuple. ii. Find the lowest score and count how many times it appears. iii. Reverse the tuple and return it as a list. iv. Check if a specific score ‘76’ (input by the user) is present in the tuple and print its first occurrence index, or a message saying it’s not present."
      ],
      "metadata": {
        "id": "itRMHLky9WyL"
      }
    },
    {
      "cell_type": "code",
      "source": [
        "scores = (45, 89.5, 76, 45.4, 89, 92, 58, 45)\n",
        "\n",
        "max_score = max(scores)\n",
        "max_index = scores.index(max_score)\n",
        "print(f\"Highest score: {max_score}, Index: {max_index}\")\n",
        "\n",
        "min_score = min(scores)\n",
        "min_count = scores.count(min_score)\n",
        "print(f\"Lowest score: {min_score}, Count: {min_count}\")\n",
        "\n",
        "reversed_list = list(reversed(scores))\n",
        "print(\"Reversed tuple as list:\", reversed_list)\n",
        "\n",
        "user_input = 76\n",
        "if user_input in scores:\n",
        "    print(f\"76 found at index: {scores.index(user_input)}\")\n",
        "else:\n",
        "    print(\"76 is not present in the tuple.\")"
      ],
      "metadata": {
        "colab": {
          "base_uri": "https://localhost:8080/"
        },
        "id": "F5bi6AhW9g0g",
        "outputId": "6c531e0a-8318-490f-da23-0c59cd09236e"
      },
      "execution_count": 2,
      "outputs": [
        {
          "output_type": "stream",
          "name": "stdout",
          "text": [
            "Highest score: 92, Index: 5\n",
            "Lowest score: 45, Count: 2\n",
            "Reversed tuple as list: [45, 58, 92, 89, 45.4, 76, 89.5, 45]\n",
            "76 found at index: 2\n"
          ]
        }
      ]
    },
    {
      "cell_type": "markdown",
      "source": [
        "WAP to create a list of 100 random numbers between 100 and 900. Count and print the: i. All odd numbers ii. All even numbers iii. All prime numbers"
      ],
      "metadata": {
        "id": "q6-kO3Zb-Asp"
      }
    },
    {
      "cell_type": "code",
      "source": [
        "import random\n",
        "\n",
        "numbers = [random.randint(100, 900) for _ in range(100)]\n",
        "\n",
        "odd_numbers = [num for num in numbers if num % 2 != 0]\n",
        "print(\"Odd numbers count:\", len(odd_numbers))\n",
        "\n",
        "even_numbers = [num for num in numbers if num % 2 == 0]\n",
        "print(\"Even numbers count:\", len(even_numbers))\n",
        "def is_prime(n):\n",
        "    if n < 2:\n",
        "        return False\n",
        "    for i in range(2, int(n ** 0.5) + 1):\n",
        "        if n % i == 0:\n",
        "            return False\n",
        "    return True\n",
        "\n",
        "prime_numbers = [num for num in numbers if is_prime(num)]\n",
        "print(\"Prime numbers count:\", len(prime_numbers))"
      ],
      "metadata": {
        "colab": {
          "base_uri": "https://localhost:8080/"
        },
        "id": "jeVq56DO-Bk5",
        "outputId": "c9e2bd53-3226-49d0-bf73-f33388a2f96e"
      },
      "execution_count": 3,
      "outputs": [
        {
          "output_type": "stream",
          "name": "stdout",
          "text": [
            "Odd numbers count: 54\n",
            "Even numbers count: 46\n",
            "Prime numbers count: 18\n"
          ]
        }
      ]
    },
    {
      "cell_type": "markdown",
      "source": [
        "Consider the following two sets, A and B, representing scores of two teams in multiple matches. A = {34, 56, 78, 90} and B = {78, 45, 90, 23} WAP to perform the following operations using set functions: i. Find the unique scores achieved by both teams (union of sets). ii. Identify the scores that are common to both teams (intersection of sets). iii. Find the scores that are exclusive to each team (symmetric difference). iv. Check if the scores of team A are a subset of team B, and if team B's scores are a superset of team A. v. Remove a specific score 𝑋 (input by the user) from set A if it exists. If not, print a message saying it is not present."
      ],
      "metadata": {
        "id": "SBEvpa2R-cF7"
      }
    },
    {
      "cell_type": "code",
      "source": [
        "A = {34, 56, 78, 90}\n",
        "B = {78, 45, 90, 23}\n",
        "\n",
        "print(\"Union:\", A | B)\n",
        "\n",
        "print(\"Intersection:\", A & B)\n",
        "\n",
        "print(\"Symmetric Difference:\", A ^ B)\n",
        "\n",
        "print(\"Is A subset of B:\", A.issubset(B))\n",
        "print(\"Is B superset of A:\", B.issuperset(A))\n",
        "\n",
        "X = int(input(\"Enter a score to remove from A: \"))\n",
        "if X in A:\n",
        "    A.remove(X)\n",
        "    print("removed from A\")\n",
        "else:\n",
        "    print("not found in A\")\n"
      ],
      "metadata": {
        "colab": {
          "base_uri": "https://localhost:8080/"
        },
        "id": "hTJvX4wM-c1F",
        "outputId": "9c95238b-b125-4195-84d1-d3e414e2dd3d"
      },
      "execution_count": 4,
      "outputs": [
        {
          "output_type": "stream",
          "name": "stdout",
          "text": [
            "Union: {34, 45, 78, 23, 56, 90}\n",
            "Intersection: {90, 78}\n",
            "Symmetric Difference: {34, 45, 23, 56}\n",
            "Is A subset of B?: False\n",
            "Is B superset of A?: False\n",
            "Enter a score to remove from A: 34\n",
            "34 removed from A\n"
          ]
        }
      ]
    },
    {
      "cell_type": "markdown",
      "source": [
        "Write a program to rename a key city to a location in the following dictionary"
      ],
      "metadata": {
        "id": "q67cGxoe_Kwq"
      }
    },
    {
      "cell_type": "code",
      "source": [
        "city_dict = {\"city\": \"New York\", \"country\": \"USA\", \"population\": 8500000}\n",
        "city_dict[\"location\"] = city_dict.pop(\"city\")\n",
        "print(city_dict)"
      ],
      "metadata": {
        "colab": {
          "base_uri": "https://localhost:8080/"
        },
        "id": "LleX_Mee_ODX",
        "outputId": "90475468-0f8e-4dd7-e7d8-5dd8f72df87f"
      },
      "execution_count": 5,
      "outputs": [
        {
          "output_type": "stream",
          "name": "stdout",
          "text": [
            "{'country': 'USA', 'population': 8500000, 'location': 'New York'}\n"
          ]
        }
      ]
    }
  ]
}
